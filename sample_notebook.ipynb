{
 "cells": [
  {
   "cell_type": "markdown",
   "metadata": {},
   "source": [
    "# I have a task for your to solve 😉\n",
    "\n",
    "But first let's install some packages using PIP. \\\n",
    "You can use \"cell magic\" to execute system commands right from Jupyter notebooks. \\\n",
    "Press \"Execute all cells\" button at the top"
   ]
  },
  {
   "cell_type": "code",
   "execution_count": null,
   "metadata": {},
   "outputs": [],
   "source": [
    "%pip install -U requests"
   ]
  },
  {
   "cell_type": "markdown",
   "metadata": {},
   "source": [
    "Let's download today's Bing Wallpaper and display it in this Jupyter Notebook. Complete the following code:\n",
    "\n",
    "<details>\n",
    "<summary>Do not open! This is a solution</summary>\n",
    "\n",
    "```python\n",
    "image_url = api[-1]['url']\n",
    "```\n",
    "\n",
    "</details>"
   ]
  },
  {
   "cell_type": "code",
   "execution_count": null,
   "metadata": {},
   "outputs": [],
   "source": [
    "from IPython.display import Image\n",
    "import requests\n",
    "\n",
    "\n",
    "api_url = f'https://bing.npanuhin.me/DE/de.json'\n",
    "\n",
    "api: list[dict[str, str]] = requests.get(api_url).json()\n",
    "\n",
    "# We want to get the last item from api, and then the 'url' from that item\n",
    "# Hint: take a look at the type annotation for `api`\n",
    "image_url = api[-1]['url']\n",
    "\n",
    "image_content = requests.get(image_url).content\n",
    "\n",
    "Image(image_content)"
   ]
  },
  {
   "cell_type": "markdown",
   "metadata": {},
   "source": [
    "This is all for now, well done! Let's get back to the terminal, shall we?"
   ]
  }
 ],
 "metadata": {
  "kernelspec": {
   "display_name": "Python 3",
   "language": "python",
   "name": "python3"
  },
  "language_info": {
   "codemirror_mode": {
    "name": "ipython",
    "version": 3
   },
   "file_extension": ".py",
   "mimetype": "text/x-python",
   "name": "python",
   "nbconvert_exporter": "python",
   "pygments_lexer": "ipython3",
   "version": "3.12.2"
  }
 },
 "nbformat": 4,
 "nbformat_minor": 2
}
