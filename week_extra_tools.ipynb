{
 "cells": [
  {
   "cell_type": "markdown",
   "metadata": {},
   "source": [
    "# Terminal\n",
    "\n",
    "Open your system terminal together with me\n",
    "\n",
    "By default it opens in some directory, usually it is your home directory. \\\n",
    "In most terminals, to check what directory you are currently in, you can take a look at the beginning of the line:"
   ]
  },
  {
   "cell_type": "code",
   "execution_count": 1,
   "metadata": {},
   "outputs": [
    {
     "name": "stdout",
     "output_type": "stream",
     "text": [
      "Microsoft Windows [Version 10.0.19045.4894]\n",
      "(c) ��௮��� �������� (Microsoft Corporation). �� �ࠢ� ���饭�.\n",
      "\n",
      "c:\\Users\\panuhin\\Desktop\\Problems\\Constructor University\\TA\\Programming in Python\\Seminars\\Extra-Tools-Seminar>rem\n",
      "\n",
      "c:\\Users\\panuhin\\Desktop\\Problems\\Constructor University\\TA\\Programming in Python\\Seminars\\Extra-Tools-Seminar>"
     ]
    }
   ],
   "source": [
    "%%cmd\n",
    "rem"
   ]
  },
  {
   "cell_type": "markdown",
   "metadata": {},
   "source": [
    "However, if this is not enough, we can use the following commands to get the full path to the current directory (usually called \"working directory\"):\n",
    "\n",
    "<table align=\"center\"><tbody align=\"center\">\n",
    "    <tr>\n",
    "        <th>Linux/MacOS/Git Bash (Windows)</th>\n",
    "        <th>Windows</th>\n",
    "    </tr>\n",
    "    <tr>\n",
    "        <td><code>pwd</code><br>stands for \"Print Working Directory\"</td>\n",
    "        <td><code>cd</code><br>stands for \"Change Directory\"</td>\n",
    "    </tr>\n",
    "</tbody></table><br>\n",
    "\n",
    "> **Git Bash** is a terminal emulator for Windows, which simulates Linux `bash` terminal, hence it uses the same commands as Linux\n",
    "\n",
    "> **Windows PowerShell** sometimes uses regular Windows commands, sometimes Linux commands, and sometimes its own commands, so it is better to look up the command you need"
   ]
  },
  {
   "cell_type": "code",
   "execution_count": 2,
   "metadata": {},
   "outputs": [
    {
     "name": "stdout",
     "output_type": "stream",
     "text": [
      "c:\\Users\\panuhin\\Desktop\\Problems\\Constructor University\\TA\\Programming in Python\\Seminars\\Extra-Tools-Seminar\n"
     ]
    }
   ],
   "source": [
    "!cd"
   ]
  },
  {
   "cell_type": "markdown",
   "metadata": {},
   "source": [
    "To navigate in the terminal we can user the following command:\n",
    "\n",
    "<table align=\"center\"><tbody align=\"center\">\n",
    "    <tr>\n",
    "        <th>Linux/MacOS/Windows/Git Bash (Windows)</th>\n",
    "    </tr>\n",
    "    <tr>\n",
    "        <td><code>cd {path}</code><br>stands for \"Change Directory\"</td>\n",
    "    </tr>\n",
    "</tbody></table><br>\n",
    "\n",
    "Common values for `path` are:\n",
    "- `.` or `./` for the current directory\n",
    "- `..` or `../` for the parent directory\n",
    "- `/` for the root directory\n",
    "- `~` for the home directory (**Linux/MacOS/Git Bash**) or `%userprofile%` (Windows)"
   ]
  },
  {
   "cell_type": "code",
   "execution_count": 3,
   "metadata": {},
   "outputs": [
    {
     "name": "stdout",
     "output_type": "stream",
     "text": [
      "/\n",
      "/home/npanuhin\n"
     ]
    }
   ],
   "source": [
    "%%bash\n",
    "cd /   # Change to root directory\n",
    "pwd    # Print working directory\n",
    "cd ~   # Change to home directory\n",
    "pwd    # Print working directory"
   ]
  },
  {
   "cell_type": "markdown",
   "metadata": {},
   "source": [
    "**Exercise**: Navigate to the directory where you will create a folder for today's seminar\n",
    "\n",
    "*Hint:* Use `TAB` to autocomplete the directory names\n",
    "\n",
    "> Complete this task in your system terminal"
   ]
  },
  {
   "cell_type": "markdown",
   "metadata": {},
   "source": [
    "# Git\n",
    "\n",
    "Git is a version control system that allows you to track changes in your code and collaborate with others.\n",
    "\n",
    "We will cover most used commands as we go. First, we will need the following commands:\n",
    "\n",
    "```bash\n",
    "git clone {repository_url, strongly preferably SSH}  # Clone a repository from a remote server to your local machine\n",
    "git status  # Check the status of your repository\n",
    "git branch  # List all branches in your repository\n",
    "git checkout {-b} {branch_name}  # Switch to a different branch, {-b} to create a new branch\n",
    "```\n",
    "\n",
    "We will continue with other commands a bit later..."
   ]
  },
  {
   "cell_type": "markdown",
   "metadata": {},
   "source": [
    "**Exercise**: Clone the repository for today's seminar and create a branch with your name\n",
    "```bash\n",
    "git clone git@github.com:Python-Homeworks-CUB/Extra-Tools-Seminar.git\n",
    "cd Extra-Tools-Seminar\n",
    "git checkout -b {Your Surname or Name if it's not popular or (funny) nickname}\n",
    "git status\n",
    "git branch\n",
    "```\n",
    "\n",
    "Make sure that there are no errors and you are on your freshly created branch"
   ]
  },
  {
   "cell_type": "markdown",
   "metadata": {},
   "source": [
    "# Terminal 2:\n",
    "\n",
    "The following commands will be useful when working with files and folders:\n",
    "\n",
    "<div align=\"center\"><b>Create folder</b></div><br>\n",
    "<table align=\"center\"><tbody align=\"center\">\n",
    "    <tr>\n",
    "        <th>Windows/Linux/MacOS/Git Bash (Windows)</th>\n",
    "        <th>Windows</th>\n",
    "    </tr>\n",
    "    <tr>\n",
    "        <td><code>mkdir {folder_name}</code><br><code>mkdir -p {path/folder_name}</code><br>stands for \"Make Directory\"</td>\n",
    "        <td><code>mkdir {path/folder_name}</code><br>stands for \"Make Directory\"</td>\n",
    "    </tr>\n",
    "</tbody></table><br>\n",
    "\n",
    "<div align=\"center\"><b>Remove folder</b></div><br>\n",
    "<table align=\"center\"><tbody align=\"center\">\n",
    "    <tr>\n",
    "        <th>Windows/Linux/MacOS/Git Bash (Windows)</th>\n",
    "        <th>Linux/MacOS/Git Bash (Windows)</th>\n",
    "    </tr>\n",
    "    <tr>\n",
    "        <td><code>rmdir {-s} {path}</code><br>stands for \"Remove Directory\"<br><b>Only empty directories, {-s} for recursive</b></td>\n",
    "        <td><code>rm -R {path}</code><br>stands for \"Remove -Recursive\"</td>\n",
    "    </tr>\n",
    "</tbody></table><br>\n",
    "\n",
    "<div align=\"center\"><b>Create file</b></div><br>\n",
    "<table align=\"center\"><tbody align=\"center\">\n",
    "    <tr>\n",
    "        <th>Linux/MacOS/Git Bash (Windows)</th>\n",
    "        <th>Windows</th>\n",
    "    </tr>\n",
    "    <tr>\n",
    "        <td><code>touch {path}</code></td>\n",
    "        <td>Does not have a specific command,<br>but you can use <code>echo</code> as demonstrated below</td>\n",
    "    </tr>\n",
    "</tbody></table><br>\n",
    "\n",
    "<div align=\"center\"><b>Remove file</b></div><br>\n",
    "<table align=\"center\"><tbody align=\"center\">\n",
    "    <tr>\n",
    "        <th>Windows/Linux/MacOS/Git Bash (Windows)</th>\n",
    "        <th>Linux/MacOS/Git Bash (Windows)</th>\n",
    "    </tr>\n",
    "    <tr>\n",
    "        <td><code>del {path}</code><br>stands for \"Delete\"</td>\n",
    "        <td><code>rm {path}</code><br>stands for \"Remove\"</td>\n",
    "    </tr>\n",
    "</tbody></table><br>\n",
    "\n",
    "<div align=\"center\"><b>Put content into file</b></div><br>\n",
    "<table align=\"center\"><tbody align=\"center\">\n",
    "    <tr>\n",
    "        <th>Windows/Linux/MacOS/Git Bash (Windows)</th>\n",
    "    </tr>\n",
    "    <tr>\n",
    "        <td>\n",
    "            <code>echo {content} > {path}</code> (overwrite)<br><code>echo {content} >> {path}</code> (append)\n",
    "            <br>\n",
    "            Both commands create file if it does not exist\n",
    "        </td>\n",
    "    </tr>\n",
    "</tbody></table><br>\n",
    "\n",
    "<div align=\"center\"><b>List files and folders in the current directory</b></div><br>\n",
    "<table align=\"center\"><tbody align=\"center\">\n",
    "    <tr>\n",
    "        <th>Windows/Linux/MacOS/Git Bash (Windows)</th>\n",
    "        <th>Linux/MacOS/Git Bash (Windows)</th>\n",
    "    </tr>\n",
    "    <tr>\n",
    "        <td><code>dir</code><br>stands for \"Directory\"</td>\n",
    "        <td><code>ls</code><br>stands for \"List\"</td>\n",
    "    </tr>\n",
    "</tbody></table><br>"
   ]
  },
  {
   "cell_type": "markdown",
   "metadata": {},
   "source": [
    "\n",
    "`>` and `>>` are used to redirect the output of a command to a file or other command. \\\n",
    "`>` overwrites the file, while `>>` appends to the file.\n",
    "\n",
    "On Linux/MacOS/Git Bash (Windows) by forward slashes `/`, while on Windows by backslashes `\\` by default (although '/' also work sometimes, especially in when path is enclosed in quotes).\n",
    "\n",
    "**Enclose the path in quotes if it contains spaces or special characters!**\n",
    "\n",
    "Double quotes `\"` in some systems are not equal to single quotes `'` — some terminals will execute the command write in double quotes. \\\n",
    "To avoid bugs, use single quotes if you don't intend to execute any the command.\n",
    "\n",
    "You can use opposite quotes for string inside another strings, see the example below"
   ]
  },
  {
   "cell_type": "markdown",
   "metadata": {},
   "source": [
    "**Exercise**: Let's create a folder with your Name and Surname in the repository. Then create a Python (`.py`) file called `solution.py` in this folder, containing one `print` function, that prints your name. Check that the file is created by listing the files in the directory.\n",
    "\n",
    "**Important!** You are not allowed to user any IDE or GUI, even the text editor or file explorer for this task\n",
    "\n",
    "```bash\n",
    "mkdir Surname_Name\n",
    "echo 'print(\"Hi! My name is {Name}\")' > Surname_Name/solution.py\n",
    "dir Surname_Name\n",
    "```"
   ]
  },
  {
   "cell_type": "markdown",
   "metadata": {},
   "source": [
    "**Exercise**: Let's create a folder with your Name and Surname in the repository. Then create a Python (`.py`) file called `solution.py` in this. folder. Check that the file is created by listing the files in the directory.\n",
    "\n",
    "```bash\n",
    "mkdir Surname_Name\n",
    "echo > 'Surname_Name/solution.py'\n",
    "dir Surname_Name\n",
    "```\n",
    "\n",
    "You can see how Git tracks the changes by running `git status`:\n",
    "\n",
    "```bash\n",
    "git status\n",
    "```\n",
    "\n",
    "Let's stage out changes (one created file) and check status again:\n",
    "\n",
    "```bash\n",
    "git add Surname_Name/solution.py\n",
    "gis status\n",
    "```\n"
   ]
  },
  {
   "cell_type": "markdown",
   "metadata": {},
   "source": [
    "# PIP\n",
    "\n",
    "`pip` is a cross-platform package manager for Python. It allows you to install and manage Python packages. \\\n",
    "To install a package, you can use the following command:\n",
    "\n",
    "```bash\n",
    "pip install {-r} {-U} {package_name}{==version}\n",
    "```\n",
    "`-r` flag stands for \"Requirements\" and is used to install packages listed in a file (e.g. `requirements.txt`).\n",
    "\n",
    "`-U` flag stands for \"Upgrade\" and is used to upgrade the package to the latest available version. \\\n",
    "If needed, you can specify the version of the package you want to install."
   ]
  },
  {
   "cell_type": "markdown",
   "metadata": {},
   "source": [
    "**Exercise**: Let's install Jupyter Notebook using `pip`. Then we can launch it by running `jupyter notebook` in the terminal.\n",
    "\n",
    "```bash\n",
    "pip install notebook\n",
    "jupyter notebook\n",
    "```\n",
    "\n",
    "If the second command does not work, you can try to reinstalling Jupyter Notebook:\n",
    "\n",
    "```bash\n",
    "pip install --force-reinstall notebook\n",
    "```\n",
    "\n",
    "> Complete this task in your system terminal"
   ]
  },
  {
   "cell_type": "markdown",
   "metadata": {},
   "source": [
    "**Exercise**:\n",
    "- Jupyter Notebook will open in your default browser in a tree view\n",
    "- Copy the file named `sample_notebook.ipynb` from the repository root to the folder with your Name\n",
    "- Double-click the file to open it\n",
    "- Solve the task in the notebook. **Do not forget to save the notebook!**\n",
    "- Close the browser tab, `Ctrl+C` in the terminal to stop the Jupyter server"
   ]
  },
  {
   "cell_type": "markdown",
   "metadata": {},
   "source": [
    "# Git again!\n",
    "\n",
    "TODO"
   ]
  }
 ],
 "metadata": {
  "kernelspec": {
   "display_name": "Python 3",
   "language": "python",
   "name": "python3"
  },
  "language_info": {
   "codemirror_mode": {
    "name": "ipython",
    "version": 3
   },
   "file_extension": ".py",
   "mimetype": "text/x-python",
   "name": "python",
   "nbconvert_exporter": "python",
   "pygments_lexer": "ipython3",
   "version": "3.12.2"
  }
 },
 "nbformat": 4,
 "nbformat_minor": 2
}
